{
 "cells": [
  {
   "cell_type": "raw",
   "id": "726c2b36-2164-4a7c-8a27-d368c1cabb6d",
   "metadata": {},
   "source": [
    "Q1. How do you comment code in Python? What are the different types of comments?"
   ]
  },
  {
   "cell_type": "raw",
   "id": "b6c5f500-9d3c-4251-a54d-4b2167ca2f62",
   "metadata": {},
   "source": [
    "# In python comments are used to explain the code and provide additional information without affecting the program's execution\n",
    "\n",
    "There are two types of comments \n",
    "1) :- single line comments\n",
    "2) :- multi line comments(docstirng)\n",
    "\n"
   ]
  },
  {
   "cell_type": "code",
   "execution_count": 1,
   "id": "43601846-3a21-40d7-8015-7ce69fe70516",
   "metadata": {},
   "outputs": [],
   "source": [
    "#Single-line comments:- These comments are used for a single line of code and start with the \"#\" symbol.\n",
    "#example\n",
    "\n",
    "#single-line comments\n",
    "x=10 #x variable contains integer 10"
   ]
  },
  {
   "cell_type": "raw",
   "id": "17149a28-4363-4e71-bf87-d00163cf1b3e",
   "metadata": {},
   "source": [
    "#2) multi line commnets as you can understand this by just reading his heading. multi line comments can span multiple line and are typically used to documents , functions,classes.It can be written as using triple quotes(''' or \"\"\")at the both end of line."
   ]
  },
  {
   "cell_type": "code",
   "execution_count": 3,
   "id": "7e84e7e6-4a31-47cb-ab24-15bbd8e1a08f",
   "metadata": {},
   "outputs": [],
   "source": [
    "'''\n",
    "This is a multi-line comment (docstring)\n",
    "hi sir,this course is amazing i am really enjoying this course hope i will get success one day.\n",
    "'''\n",
    "def my_function():\n",
    "    \"\"\"\n",
    "    This is another way to write a multi-line comment (docstring).\n",
    "    It provides a description of the function's purpose and usage.\n",
    "    \"\"\"\n",
    "    # Function code goes here"
   ]
  },
  {
   "cell_type": "raw",
   "id": "ee177c31-8f8d-4a07-8d20-804bc8fd9a19",
   "metadata": {},
   "source": [
    "Q2. What are variables in Python? How do you declare and assign values to variables?"
   ]
  },
  {
   "cell_type": "raw",
   "id": "fa25349d-face-4434-8aba-d96250f56284",
   "metadata": {},
   "source": [
    "In python variables are like containers we can store anything in it. the best example of variable are in our home like our mom store dals,rice,sugar etc in container(box) and label them with name.varaibles is just like that."
   ]
  },
  {
   "cell_type": "code",
   "execution_count": 6,
   "id": "5f51325e-387f-4224-bbb3-8a6c05190d0c",
   "metadata": {},
   "outputs": [],
   "source": [
    "# To declare and assign values to varaibles in python we can simply use variable name followed by \" = \"sign and  the value you want to assign\n",
    "    \n",
    "  #example\n",
    "\n",
    "x=\" i am\"\n",
    "z=\"data scientist\""
   ]
  },
  {
   "cell_type": "code",
   "execution_count": 10,
   "id": "aab8e300-668f-4b16-83d6-2e83e35fddfe",
   "metadata": {},
   "outputs": [
    {
     "data": {
      "text/plain": [
       "(' i am', 'data scientist')"
      ]
     },
     "execution_count": 10,
     "metadata": {},
     "output_type": "execute_result"
    }
   ],
   "source": [
    "x, z\n"
   ]
  },
  {
   "cell_type": "raw",
   "id": "c51a97f4-71cb-45f6-81ef-074456df53f9",
   "metadata": {},
   "source": [
    "Q3. How do you convert one data type to another in Python?"
   ]
  },
  {
   "cell_type": "raw",
   "id": "09a981f2-2a32-4024-88ee-4b62d769b15a",
   "metadata": {},
   "source": [
    "you can convert one data type to another using type conversion functions or constructors."
   ]
  },
  {
   "cell_type": "code",
   "execution_count": 12,
   "id": "183f4d04-6e15-4c25-a351-33ebc6322f66",
   "metadata": {},
   "outputs": [
    {
     "data": {
      "text/plain": [
       "str"
      ]
     },
     "execution_count": 12,
     "metadata": {},
     "output_type": "execute_result"
    }
   ],
   "source": [
    "#i am using one built fuction here called int( )\n",
    "x =\" 23\"# the variable x here is string wait i will show you\n",
    "    \n",
    "type(x)"
   ]
  },
  {
   "cell_type": "code",
   "execution_count": 15,
   "id": "180766f6-c6e3-4ada-bf37-d231fb04a6bf",
   "metadata": {},
   "outputs": [
    {
     "data": {
      "text/plain": [
       "' 23'"
      ]
     },
     "execution_count": 15,
     "metadata": {},
     "output_type": "execute_result"
    }
   ],
   "source": [
    "#and if you want convert it into a integer we will simply use int() funtion\n",
    "num_int=int(x)\n",
    "x"
   ]
  },
  {
   "cell_type": "code",
   "execution_count": 17,
   "id": "c6bffb8e-47f8-4606-b6bc-c597659cda5b",
   "metadata": {},
   "outputs": [
    {
     "data": {
      "text/plain": [
       "int"
      ]
     },
     "execution_count": 17,
     "metadata": {},
     "output_type": "execute_result"
    }
   ],
   "source": [
    "type(num_int)\n",
    "#as you can i changed the type of variable to int"
   ]
  },
  {
   "cell_type": "raw",
   "id": "dcfaf700-90c7-44d6-a259-080561006c3b",
   "metadata": {},
   "source": [
    "Q4. How do you write and execute a Python script from the command line?"
   ]
  },
  {
   "cell_type": "raw",
   "id": "12008c20-c3b7-4cb7-8963-67a17a825533",
   "metadata": {},
   "source": [
    "step1 : Create the Python Script\n",
    "Open a text editor like vs code and write your python code and save the file with a .py extension.\n",
    "for ex you created a script named \"my_course.py\"\n",
    "\n",
    "print(\"Hello, World!\")\n",
    "x = 5 + 3\n",
    "print(\"The result is:\", x)\n",
    "\n",
    "\n",
    "Step 2: Open Command Prompt (Windows)\n",
    "\n",
    "Open the Command Prompt (on Windows). Navigate to the directory where you saved the Python script using the cd command (change directory).\n",
    "\n",
    "cd Documents\n",
    "\n",
    "Step 3: Run the Python Script\n",
    "\n",
    "To execute the Python script, use the python command followed by the script's filename.\n",
    "\n",
    "python my_course.py\n",
    "\n",
    "The script will be executed, and you should see the output in the terminal:\n",
    "\n",
    "Hello, World!\n",
    "The result is: 8"
   ]
  },
  {
   "cell_type": "raw",
   "id": "5123d2ad-2a99-4d1d-9d6e-284cfbdd15aa",
   "metadata": {},
   "source": [
    "Q5. Given a list my_list = [1, 2, 3, 4, 5], write the code to slice the list and obtain the sub-list [2, 3]."
   ]
  },
  {
   "cell_type": "code",
   "execution_count": 19,
   "id": "c15b4e03-696e-4e30-93b7-e829180986b6",
   "metadata": {},
   "outputs": [
    {
     "data": {
      "text/plain": [
       "[2, 3]"
      ]
     },
     "execution_count": 19,
     "metadata": {},
     "output_type": "execute_result"
    }
   ],
   "source": [
    "my_list=[1, 2, 3, 4, 5]\n",
    "my_list\n",
    "\n",
    "sub_list=(my_list[1:3])\n",
    "sub_list"
   ]
  },
  {
   "cell_type": "raw",
   "id": "30d486dc-3da2-4de2-aa56-362d9d73ab5d",
   "metadata": {},
   "source": [
    "Q6. What is a complex number in mathematics, and how is it represented in Python?"
   ]
  },
  {
   "cell_type": "raw",
   "id": "3afc6af9-c721-4428-9ecd-be4a01ed3f84",
   "metadata": {},
   "source": [
    "In mathematics, a complex number is a number that comprises both a real part and an imaginary part. It is represented in the form \"a + bi,\" where \"a\" is the real part, \"b\" is the imaginary part, and \"i\" is the imaginary unit (defined as the square root of -1). The real part represents the traditional real number line, while the imaginary part extends the concept into a perpendicular direction."
   ]
  },
  {
   "cell_type": "code",
   "execution_count": 20,
   "id": "6ba61852-7a1c-493b-ab6f-2b054fc08723",
   "metadata": {},
   "outputs": [
    {
     "name": "stdout",
     "output_type": "stream",
     "text": [
      "(3+4j)\n"
     ]
    }
   ],
   "source": [
    "#Here are a few examples of creating complex numbers in Python:\n",
    "\n",
    "#Using complex() function:\n",
    "\n",
    "b=complex(3, 4)\n",
    "print(b)"
   ]
  },
  {
   "cell_type": "raw",
   "id": "f398d59d-605d-425c-b91a-4b2d9c8b0e12",
   "metadata": {},
   "source": [
    "Q7. What is the correct way to declare a variable named age and assign the value 25 to it?"
   ]
  },
  {
   "cell_type": "code",
   "execution_count": 1,
   "id": "37feb674-8c7b-459f-bf18-37afb90a256b",
   "metadata": {},
   "outputs": [],
   "source": [
    "# yaa it's simple\n",
    "#correct way to declare a variable named age and assign the value 25 to it this.\n",
    "\n",
    "age=25"
   ]
  },
  {
   "cell_type": "raw",
   "id": "1d3f3bc5-4c96-4d0b-be89-07147c4e4bad",
   "metadata": {},
   "source": [
    "Q8. Declare a variable named price and assign the value 9.99 to it. What data type does this variable\n",
    "belong to?"
   ]
  },
  {
   "cell_type": "code",
   "execution_count": 3,
   "id": "2dec4e6e-991c-4c8f-8c6c-39ca56483039",
   "metadata": {},
   "outputs": [
    {
     "name": "stdout",
     "output_type": "stream",
     "text": [
      "<class 'float'>\n"
     ]
    }
   ],
   "source": [
    "price=9.99\n",
    "print(type(price))\n",
    "#this variable belongs to float data type."
   ]
  },
  {
   "cell_type": "raw",
   "id": "43b2e03e-6e3d-4076-b401-58de2be4d8e4",
   "metadata": {},
   "source": [
    "Q9. Create a variable named name and assign your full name to it as a string. How would you print the\n",
    "value of this variable?"
   ]
  },
  {
   "cell_type": "code",
   "execution_count": 4,
   "id": "1e40bcdc-2cb4-4957-ac69-39d612611732",
   "metadata": {},
   "outputs": [
    {
     "name": "stdout",
     "output_type": "stream",
     "text": [
      "Mukesh patil\n"
     ]
    }
   ],
   "source": [
    "name=\"Mukesh patil\"\n",
    "print(name)"
   ]
  },
  {
   "cell_type": "raw",
   "id": "b2268642-a6de-4242-9607-a2e024fb0227",
   "metadata": {},
   "source": [
    "Q10. Given the string \"Hello, World!\", extract the substring \"World\"."
   ]
  },
  {
   "cell_type": "code",
   "execution_count": 5,
   "id": "b0f7a734-2a55-4635-8511-6ced7574d283",
   "metadata": {},
   "outputs": [
    {
     "data": {
      "text/plain": [
       "'World'"
      ]
     },
     "execution_count": 5,
     "metadata": {},
     "output_type": "execute_result"
    }
   ],
   "source": [
    "str=\"Hello World\"\n",
    "ext=str[6:11]\n",
    "ext"
   ]
  },
  {
   "cell_type": "code",
   "execution_count": null,
   "id": "9a41194b-006f-4a9a-ae56-77cf947a0417",
   "metadata": {},
   "outputs": [],
   "source": []
  }
 ],
 "metadata": {
  "kernelspec": {
   "display_name": "Python 3 (ipykernel)",
   "language": "python",
   "name": "python3"
  },
  "language_info": {
   "codemirror_mode": {
    "name": "ipython",
    "version": 3
   },
   "file_extension": ".py",
   "mimetype": "text/x-python",
   "name": "python",
   "nbconvert_exporter": "python",
   "pygments_lexer": "ipython3",
   "version": "3.10.8"
  }
 },
 "nbformat": 4,
 "nbformat_minor": 5
}
